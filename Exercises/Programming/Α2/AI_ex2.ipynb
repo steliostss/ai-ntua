{
 "cells": [
  {
   "cell_type": "markdown",
   "metadata": {
    "colab_type": "text",
    "id": "816WHA5P3nJT"
   },
   "source": [
    "# Τεχνητή Νοημοσύνη: Εργαστηριακή Άσκηση 2\n",
    "---\n",
    "\n",
    "Ο στόχος της εργασίας είναι η κατασκευή ενός συστήματος προτάσεων (Recommendation System) για ταινίες. Οι προτάσεις αυτές θα πηγάζουν τόσο από τα χαρακτηριστικά της ταινίας όσο και από ορισμένες αξιολογήσεις του κάθε χρήστη.\n",
    "\n",
    "Στα δεδομένα της άσκησης περιλαμβάνονται ένα αρχείο με το όνομα movies_metadata.csv το όποιο περιέχει τα χαρακτηριστικά κάθε ταινίας όπως θέμα, σκηνοθέτης, ηθοποιοί, λέξεις κλειδιά κ.α. από το imdb, τα αρχεία user1.csv και user2.csv τα όποια περιέχουν αξιολογήσεις για 2 διαφορετικούς χρήστες καθώς και το αρχείο relative_movies.csv, που περιέχει 10 όμοιες ταινίες για ορισμένους τυχαία επιλεγμένους τίτλους.\n"
   ]
  },
  {
   "cell_type": "markdown",
   "metadata": {
    "colab_type": "text",
    "id": "aa-wJhCX9Nwk"
   },
   "source": [
    "# Εκφώνηση\n",
    "Στην παρούσα εργασία σας ζητείται να μελετήσετε και υλοποιήσετε τα παρακάτω:<br>\n",
    "\n",
    "### Μέρος 1\n",
    "Στο μέρος 1 και 2 θα ασχοληθείτε και θα εργαστείτε μόνο με το αρχείο movies_metadata.csv.\n",
    "#### Ερώτημα 1α\n",
    "\n",
    "Αρχικά θα πρέπει αφού μελετήσετε την δομή και τα χαρακτηριστικά του αρχείου αυτού να κατασκευάσετε μια βάση γνώσης για την Prolog η όποια ουσιαστικά θα αποτελεί τον κόσμο με τον όποιο θα εργαστείτε στην συνέχεια. Τα κατηγορήματα που θα δημιουργηθούν θα σας βοηθήσουν και στην κατασκευή του recommender και θα είναι της μορφής:\n",
    "\n",
    "```\n",
    "director(Movie, Director).\n",
    "genre(Movie, Genre).\n",
    "```\n",
    "#### Ερώτημα 1β\n",
    "\n",
    "Αφού δημιουργήσετε τον κόσμο του προβλήματος στην συνέχεια καλείστε να δημιουργήσετε, σε Prolog, απλούς κανόνες οι οποίοι θα βρίσκουν όλες τις ταινίες με:\n",
    "1.\tΑρκετά κοινό θέμα (κάποιες λέξεις σχετικά με το genre κοινές)\n",
    "2.\tΣχετικά κοινό θέμα (κάποιες λιγότερες λέξεις σχετικά με το genre κοινές π.χ. 3)\n",
    "3.\tΛιγότερο κοινό θέμα (λίγες λέξεις σχετικές με το genre κοινές π.χ. 1)\n",
    "4.\tΚοινός σκηνοθέτης\n",
    "5.\tΑκριβώς ίδια πλοκή (κάποιες λέξεις κλειδιά της πλοκής να είναι κοινές)\n",
    "6.\tΣχετικά ίδια πλοκή (κάποιες λιγότερες λέξεις κλειδιά κοινές)\n",
    "7.\tΊδιους τους βασικούς ηθοποιούς (και τους 3)\n",
    "8.\tΑρκετά ίδιους βασικούς ηθοποιούς (ορισμένους βασικούς ηθοποιούς κοινούς π.χ. 2)\n",
    "9.\tΣχετικά ίδιους ηθοποιούς (π.χ. 1 από τους 3)\n",
    "10.\tΊδια γλώσσα\n",
    "11.\tΕίναι έγχρωμες ή ασπρόμαυρες\n",
    "\n",
    "Αξίζει να σημειωθεί ότι στα παραπάνω μπορείτε να προσθέσετε περισσότερα ερωτήματα ή να αλλάξετε την κλιμακωσιμότητα των queries (πέρα από το ίδιο, αρκετά ίδιο, σχετικά ίδιο) που θα κατασκευάσετε(π.χ. μια κλίμακα από 1 στα 5 όπου αυτό είναι δυνατόν), μιας και αυτά στην συνέχεια θα χρησιμοποιηθούν για την λειτουργία του recommender. Έτσι μπορείτε να προσθέσετε queries με τα όποια μπορεί να παράγονται καλύτερες συστάσεις  (το αρχείο movie_metadata.csv περιέχει πολλές πληροφορίες ακόμα για κάθε ταινία όπως έτος κυκλοφορίας, βαθμολογία στο imdb, facebοok_likes κ.α.).\n",
    "\n",
    "Περισσότερες πληροφορίες για το dataset μπορείτε να διαβάσετε σε αυτό το Link: https://www.kaggle.com/adnanr94/imdb-movies-metadata.\n",
    "\n",
    "### Μέρος 2: Recommendation System\n",
    "Στο σημείο αυτό καλείστε με βάση αυτά που κάνατε στο μέρος 1 να κατασκευάσετε queries τα όποια θα σας επιστρέφουν παρόμοιες (σε χαρακτηριστικά) ταινίες. Τα ερωτήματα αυτά θα είναι κλιμακούμενα, δηλαδή θα υπάρχουν ερωτήματα που επιστρέφουν αρκετά κοινές ταινίες, και άλλα που επιστρέφουν λιγότερο κοινές (σε μια κλίμακα π.χ. από 1 σε 5). Για παράδειγμα:\n",
    "\n",
    "```\n",
    "simple_recommender_5(\"Pirates Of The Caribbean\", M).\n",
    "M = \"Pirates Of The Caribbean: On Stranger Tides\"\n",
    "M = \"The Chronicles Of Narnia\"\n",
    "M = \"Prince Of Persia: The Sands Of Time\"\n",
    "...\n",
    "\n",
    "simple_recommender_5(\"Avatar\").\n",
    "M = 'Terminator 2: Judgment Day'\n",
    "M = 'Aliens'\n",
    "M = 'The Terminator'\n",
    "\n",
    "simple_recommender_5(\"Star Wars: Episode III - Revenge of the Sith\").\n",
    "M = Star Wars: Episode IV - A New Hope'\n",
    "M = 'Star Wars: Episode I - The Phantom Menace'\n",
    "M = 'Star Wars: Episode II - Attack of the Clones'\n",
    "\n",
    "```\n",
    "Για παράδειγμα το παραπάνω ερώτημα θα επιστρέφει αρκετά κοινές σε περιεχόμενο ταινίες με την ταινια \"Pirates Of The Caribbean\". Αντίστοιχα θα υπάρχουν και ερωτήματα που θα βρίσκουν λιγότερα όμοιες ταινίες. Ο δείκτης ομοιότητας των ταινιών είναι αυθαίρετος και μπορείτε να τον ορίσετε εσείς όπως θέλετε, αρκεί απλά να υπάρχει κάποια λογική σύνδεση με τα δεδομένα που περιέχονται στο αρχείο movies_metadata.csv. \n",
    "\n",
    "Συνεπώς η συνάρτηση που θα κάνει τις προτάσεις (recommendation) με είσοδο μια ταινία πρέπει να επιστρέφει-εκτυπώνει μια λίστα με τις προτεινόμενες ταινίες σε φθίνουσα σειρά ομοιότητας. \n",
    "\n",
    "Για να μπορείτε να αξιολογήσετε τα αποτελέσματα των συστάσεων σας σας δίνεται ένα αρχείο με ορισμένες ταινίας και τα 10 πρώτα αποτελέσματά τους σε φθίνουσα σειρά ομοιότητας. Για την σύγκρισή των αποτελεσμάτων σας με τα  αποτελέσματα του αρχείου relative_movies.csv  μπορείτε να χρησιμοποιήσετε της συνάρτηση ομοιότητας συνόλων Jaccard (https://www.statisticshowto.datasciencecentral.com/jaccard-index/).\n",
    "\n",
    "$$jaccard(A,B)=\\frac{|A\\cap B|}{|A\\cup B|}$$\n",
    "\n",
    "Η υλοποίηση της συνάρτησης αυτής σε Python σας δίνεται με το όνομα jaccard_similarity (set1, set2). \n",
    "\n",
    "Αξίζει να σημειωθεί ότι η παραπάνω σύγκριση δεν είναι απόλυτη για τον λόγο ότι οι συναρτήσεις ομοιότητας μπορεί να είναι διαφορετικές (διαφορετικά ορίζει ο καθένας της ομοιότητα μεταξύ ταινιών) καθώς επίσης αν μια ταινία δεν έχει πολύ σχετικές προτάσεις τότε οι πιο γενικές συναρτήσεις ομοιότητας θα έχουν πολλά αποτελέσματα τα όποια η Prolog θα επιστρέψει με την σειρά που τα βρίσκει στην βάση, όποτε τότε δεν έχει ιδιαίτερο νόημα η σύγκριση σε αυτήν την περίπτωση.\n",
    "Η ομοιότητα των ταινιών είναι βοηθητική και σκοπό έχει να σας βοηθήσει να κατανοήσετε την κατεύθυνση της ασκήσης και όχι για να καταφέρετε την πλήρη ταύτιση των συστάσεων.\n",
    "\n",
    "### 3ο Μέρος: Recommendation System με βάση τις προτιμήσεις-αξιολογήσεις του χρήστη\n",
    "\n",
    "\n",
    "Σε αυτό το σημείο θα εργαστείτε με τα αρχεία user1.csv και user2.csv, τα όποια περιέχουν αξιολογήσεις (από 1 μέχρι 5) για ταινίες από 2 διαφορετικούς χρήστες. Το προηγούμενο σύστημα συστάσεων προτείνει στον χρήστη ταινίες αποκλειστικά με βάση την ομοιότητά τους. Έτσι σε αυτό το σημείο θα γίνει μια αναβάθμιση του συστήματος έτσι ώστε να παράγονται καλύτερες  συστάσεις οι όποιες θα λαμβάνουν υπόψιν και τις προτιμήσεις του χρήστη, οι όποιες θα εξάγονται από τις αξιολογήσεις που έχει κάνει μέχρι στιγμής. \n",
    "\n",
    "Έτσι πλέον για κάθε ταινία θα υπάρχει ένα score το όποιο αρχικά θε είναι ίσο με 0 και θα διαμορφώνεται από τις αξιολογήσεις κάθε user. Έτσι για έναν χρήστη με βάση τις αξιολογήσεις που έχει κάνει θα πρέπει για κάθε ταινία που έχει βαθμολογήσει θα βρίσκονται οι κοινές ταινίες ανά κλίμακα και στο μέχρι τώρα σκορ κάθε παρόμοιας ταινίας θα προστίθεται ένα βάρος το όποιο θα μπορούσε να είναι το ποσοστό ομοιότητας της ταινίας (δηλαδή ένα βάρος για κάθε κλίμακα) επί τον βαθμό που έχει βάλει ο χρήστης για την αρχική ταινία (ή ένα βάρος ανά βαθμό ώστε οι καλές κριτικές να γίνονται καλύτερες ενώ οι κακές χειρότερες). Δηλαδή, αν $rated\\_movies$ είναι το σύνολο ταινιών που έχει αξιολογήσει ο χρήστης, τότε τα recommendations που θα λαμβάνει ο χρήστης θα είναι οι ταινίες που είναι τουλάχιστον similar_1 με τουλάχιστον μία ταινία που έχει βαθμολογήσει ο χρήστης, σε φθίνουσα σειρά recommendation_score, όπου:\n",
    "\n",
    "$$recommendation\\_score(m_1)=\\sum_{m_2\\in rated\\_movies} similarity\\_weight(m_1,m_2)\\cdot voting\\_weight(m_2)$$\n",
    "\n",
    "\n",
    "Έτσι για παράδειγμα αν ένας χρήστης έχει αξιολογήσει αρκετές  ταινίες οι όποιες είναι sci-fiction με 5/5 τότε όταν ζητήσει τις προτεινόμενες είναι λογικό να λάβει πρώτα κάποιες που είναι αυτού του είδους μιας και αυτές μπορεί του αρέσουν περισσότερο.\n",
    "\n",
    "Επίσης για να εξετάσετε την αποδοτικότητα του συστήματος αυτού μπορείτε να κατασκευάσετε τους δικούς σας χρήστες. Για να το κάνετε αυτό πρέπει να γράψετε ορισμένους κανόνες της μορφής: liked(X), notliked(X) οι οποίοι θα σας επιστρέφουν ταινίες που πιθανώς θα σας αρέσουν, π.χ. σας αρέσουν ταινίες επιστημονικής φαντασίας που τις έχει σκηνοθετήσει ένας συγκεκριμένος σκηνοθέτης και αυτές που δεν είναι του γούστου σας. Για την κατασκευή του αρχείου και των αξιολογήσεων σας δίνεται μια συνάρτηση η όποια δέχεται σας ορίσματα όλες τις ταινίες από κάθε κατηγορία και τυχαία επιλέγετε ένας ορισμένος αριθμός ταινιών από αυτές στις όποιες δίνεται ένας βαθμός (για αυτές που αρέσουν στον χρήστη από 3 μέχρι 5 με διαφορετικές πιθανότητες ενώ σε αυτές που δεν του αρέσουν από 1 μέχρι 3). Μπορείτε να πειραματιστείτε με αυτήν την συνάρτηση για να ελέγξετε τα αποτελέσματά σας.\n"
   ]
  },
  {
   "cell_type": "markdown",
   "metadata": {
    "colab_type": "text",
    "id": "mgT4rsTd4tcf"
   },
   "source": [
    "---\n",
    "## Κατασκευή Περιβάλλοντος Εργασίας\n",
    "---\n",
    "### Διάβασμα Αρχείων στο Colab (Μόνο για το Colab)\n",
    "Αν η υλοποίηση γίνει στο google colab τότε μπορεί να χρησιμοποιηθεί το google drive ως file system. Για να γίνει Mount το google drive τρέχουμε τον παρακάτω κώδικα και κλικάρουμε στο link που θα μας εμφανιστεί. \n",
    "\n",
    "```\n",
    "from google.colab import drive\n",
    "drive.mount('/gdrive')\n",
    "import os\n",
    "os.listdir('/gdrive/My Drive')\n",
    "```\n",
    "Επέιτα στην σελίδα που άνοιξε επιλέγουμε το mail μας και στο επόμενο παράθυρο που θα μας ανοίξει πατάμε Να επιτρέπεται. Στην συνέχεια αντιγράφουμε τον κωδικό που θα μας βγάλει και τον κάνουμε paste στο Input που έχει ανοίξει στο colab. Έτσι πλέον αν έχουμε ανεβάσει ένα αρχείο στο google drive μπορούμε να το βρούμε στην θέση:\n",
    "\n",
    "```\n",
    "movies_filename = '/gdrive/My Drive/' + movies_metadata.csv\n",
    "```\n",
    "Μπορούμε πλέον κανονικά να δουλέψουμε φτιάχνοντας φακέλους ή αρχεία και γενικότερα κάνοντας οτιδήποτε θα κάναμε αν ήμασταν τοπικά. \n",
    "\n",
    "### Prolog μέσω Python\n",
    "\n",
    "Το πακέτο που θα χρησιμοποιηθεί για την επικοινωνία Python και Prolog είναι το pyswip (https://pypi.org/project/pyswip/). Για να δουλέψει το Pyswip  χρειάζεται να υπάρχει το Swi-Prolog το όποιο αν δουλεύουμε τοπικά πρέπει να το εγκαταστήσουμε, ακολουθώντας αντίστοιχές οδηγίες στην σελίδα του εργαλείου. Για να γίνει του Swi-Prolog η εγκατάσταση στο Google Colab πρέπει να τρέξουμε τον παρακάτω κώδικα:\n",
    "\n",
    "```\n",
    "!sudo apt-get install software-properties-common\n",
    "!sudo apt-add-repository ppa:swi-prolog/stable\n",
    "!sudo apt-get update\n",
    "!sudo apt-get install swi-prolog\n",
    "```\n",
    "Σε κάποιο σημείο της εκτέλεσης εμφανίζεται ένα μήνυμα ότι πρέπει να πατήσουμε enter σε ένα input για να συνεχίσει η διαδικασία. Έπειτα από αυτό η εκτέλεση θα συνεχίσει χωρίς κάποιο πρόβλημα.\n",
    "\n",
    "Τέλος πρέπει να εγκαταστήσουμε το pyswip (**όπου και να δουλεύουμε**) όπως παρακάτω:\n",
    "\n",
    "```\n",
    "!pip isntall pyswip\n",
    "```\n"
   ]
  },
  {
   "cell_type": "markdown",
   "metadata": {
    "colab_type": "text",
    "id": "21xzXVjQ5tFB"
   },
   "source": [
    "---\n",
    "#Κώδικας για κατασκευή περιβάλλοντος εργασίας\n",
    "##Μόνο για Google Colab\n",
    "\n",
    "Κώδικας για να γίνει Mount to Google Drive"
   ]
  },
  {
   "cell_type": "code",
   "execution_count": null,
   "metadata": {
    "colab": {
     "base_uri": "https://localhost:8080/",
     "height": 35
    },
    "colab_type": "code",
    "id": "DfT5Z_wtrhsV",
    "outputId": "b35c03e2-d7f5-43c7-c51e-e1735490a1b2"
   },
   "outputs": [],
   "source": [
    "from google.colab import drive\n",
    "drive.mount('/gdrive')\n",
    "import os\n",
    "os.listdir('/gdrive/My Drive')\n",
    "path='/gdrive/My Drive/'"
   ]
  },
  {
   "cell_type": "markdown",
   "metadata": {
    "colab_type": "text",
    "id": "Rk-8r3HU6Jyo"
   },
   "source": [
    "Κώδικάς για να εγκατασταθεί το Swi-Prolog και το pyswip.<br>\n",
    "\n",
    "***Αυτά χρειάζονται σε κάθε περιβάλλον λειτουργίας, αν δεν έιναι ήδη  εγκατεστημένα.***"
   ]
  },
  {
   "cell_type": "code",
   "execution_count": null,
   "metadata": {
    "colab": {},
    "colab_type": "code",
    "id": "mHVpa_D65-E2"
   },
   "outputs": [],
   "source": [
    "#install swi-prolog\n",
    "!sudo apt-get install software-properties-common\n",
    "!sudo apt-add-repository ppa:swi-prolog/stable\n",
    "!sudo apt-get update\n",
    "!sudo apt-get install swi-prolog"
   ]
  },
  {
   "cell_type": "code",
   "execution_count": null,
   "metadata": {},
   "outputs": [],
   "source": [
    "#install pyswip\n",
    "!pip install pyswip"
   ]
  },
  {
   "cell_type": "markdown",
   "metadata": {
    "colab_type": "text",
    "id": "YwVgPW316S3l"
   },
   "source": [
    "---"
   ]
  },
  {
   "cell_type": "markdown",
   "metadata": {
    "colab_type": "text",
    "id": "rhbCLdSqKUy2"
   },
   "source": [
    "# **Μέρος 1: Μελέτη των Metadata, Δημιουργία κόσμου και των βασικών queries.**\n"
   ]
  },
  {
   "cell_type": "code",
   "execution_count": 1,
   "metadata": {
    "colab": {
     "base_uri": "https://localhost:8080/",
     "height": 417
    },
    "colab_type": "code",
    "id": "Z_f0xW6_tHhp",
    "outputId": "6a8a0724-343e-4d99-d520-80c70f7cbe86"
   },
   "outputs": [
    {
     "data": {
      "text/html": [
       "<div>\n",
       "<style scoped>\n",
       "    .dataframe tbody tr th:only-of-type {\n",
       "        vertical-align: middle;\n",
       "    }\n",
       "\n",
       "    .dataframe tbody tr th {\n",
       "        vertical-align: top;\n",
       "    }\n",
       "\n",
       "    .dataframe thead th {\n",
       "        text-align: right;\n",
       "    }\n",
       "</style>\n",
       "<table border=\"1\" class=\"dataframe\">\n",
       "  <thead>\n",
       "    <tr style=\"text-align: right;\">\n",
       "      <th></th>\n",
       "      <th>color</th>\n",
       "      <th>director_name</th>\n",
       "      <th>num_critic_for_reviews</th>\n",
       "      <th>duration</th>\n",
       "      <th>director_facebook_likes</th>\n",
       "      <th>actor_3_facebook_likes</th>\n",
       "      <th>actor_2_name</th>\n",
       "      <th>actor_1_facebook_likes</th>\n",
       "      <th>gross</th>\n",
       "      <th>genres</th>\n",
       "      <th>...</th>\n",
       "      <th>num_user_for_reviews</th>\n",
       "      <th>language</th>\n",
       "      <th>country</th>\n",
       "      <th>content_rating</th>\n",
       "      <th>budget</th>\n",
       "      <th>title_year</th>\n",
       "      <th>actor_2_facebook_likes</th>\n",
       "      <th>imdb_score</th>\n",
       "      <th>aspect_ratio</th>\n",
       "      <th>movie_facebook_likes</th>\n",
       "    </tr>\n",
       "  </thead>\n",
       "  <tbody>\n",
       "    <tr>\n",
       "      <th>0</th>\n",
       "      <td>Color</td>\n",
       "      <td>James Cameron</td>\n",
       "      <td>723</td>\n",
       "      <td>178</td>\n",
       "      <td>0</td>\n",
       "      <td>855</td>\n",
       "      <td>Joel David Moore</td>\n",
       "      <td>1000</td>\n",
       "      <td>7.60506e+08</td>\n",
       "      <td>Action|Adventure|Fantasy|Sci-Fi</td>\n",
       "      <td>...</td>\n",
       "      <td>3054</td>\n",
       "      <td>English</td>\n",
       "      <td>USA</td>\n",
       "      <td>PG-13</td>\n",
       "      <td>2.37e+08</td>\n",
       "      <td>2009</td>\n",
       "      <td>936</td>\n",
       "      <td>7.9</td>\n",
       "      <td>1.78</td>\n",
       "      <td>33000</td>\n",
       "    </tr>\n",
       "    <tr>\n",
       "      <th>1</th>\n",
       "      <td>Color</td>\n",
       "      <td>Gore Verbinski</td>\n",
       "      <td>302</td>\n",
       "      <td>169</td>\n",
       "      <td>563</td>\n",
       "      <td>1000</td>\n",
       "      <td>Orlando Bloom</td>\n",
       "      <td>40000</td>\n",
       "      <td>3.09404e+08</td>\n",
       "      <td>Action|Adventure|Fantasy</td>\n",
       "      <td>...</td>\n",
       "      <td>1238</td>\n",
       "      <td>English</td>\n",
       "      <td>USA</td>\n",
       "      <td>PG-13</td>\n",
       "      <td>3e+08</td>\n",
       "      <td>2007</td>\n",
       "      <td>5000</td>\n",
       "      <td>7.1</td>\n",
       "      <td>2.35</td>\n",
       "      <td>0</td>\n",
       "    </tr>\n",
       "    <tr>\n",
       "      <th>2</th>\n",
       "      <td>Color</td>\n",
       "      <td>Sam Mendes</td>\n",
       "      <td>602</td>\n",
       "      <td>148</td>\n",
       "      <td>0</td>\n",
       "      <td>161</td>\n",
       "      <td>Rory Kinnear</td>\n",
       "      <td>11000</td>\n",
       "      <td>2.00074e+08</td>\n",
       "      <td>Action|Adventure|Thriller</td>\n",
       "      <td>...</td>\n",
       "      <td>994</td>\n",
       "      <td>English</td>\n",
       "      <td>UK</td>\n",
       "      <td>PG-13</td>\n",
       "      <td>2.45e+08</td>\n",
       "      <td>2015</td>\n",
       "      <td>393</td>\n",
       "      <td>6.8</td>\n",
       "      <td>2.35</td>\n",
       "      <td>85000</td>\n",
       "    </tr>\n",
       "    <tr>\n",
       "      <th>3</th>\n",
       "      <td>Color</td>\n",
       "      <td>Christopher Nolan</td>\n",
       "      <td>813</td>\n",
       "      <td>164</td>\n",
       "      <td>22000</td>\n",
       "      <td>23000</td>\n",
       "      <td>Christian Bale</td>\n",
       "      <td>27000</td>\n",
       "      <td>4.48131e+08</td>\n",
       "      <td>Action|Thriller</td>\n",
       "      <td>...</td>\n",
       "      <td>2701</td>\n",
       "      <td>English</td>\n",
       "      <td>USA</td>\n",
       "      <td>PG-13</td>\n",
       "      <td>2.5e+08</td>\n",
       "      <td>2012</td>\n",
       "      <td>23000</td>\n",
       "      <td>8.5</td>\n",
       "      <td>2.35</td>\n",
       "      <td>164000</td>\n",
       "    </tr>\n",
       "    <tr>\n",
       "      <th>4</th>\n",
       "      <td>UNK</td>\n",
       "      <td>Doug Walker</td>\n",
       "      <td>UNK</td>\n",
       "      <td>UNK</td>\n",
       "      <td>131</td>\n",
       "      <td>UNK</td>\n",
       "      <td>Rob Walker</td>\n",
       "      <td>131</td>\n",
       "      <td>UNK</td>\n",
       "      <td>Documentary</td>\n",
       "      <td>...</td>\n",
       "      <td>UNK</td>\n",
       "      <td>UNK</td>\n",
       "      <td>UNK</td>\n",
       "      <td>UNK</td>\n",
       "      <td>UNK</td>\n",
       "      <td>UNK</td>\n",
       "      <td>12</td>\n",
       "      <td>7.1</td>\n",
       "      <td>UNK</td>\n",
       "      <td>0</td>\n",
       "    </tr>\n",
       "  </tbody>\n",
       "</table>\n",
       "<p>5 rows × 28 columns</p>\n",
       "</div>"
      ],
      "text/plain": [
       "   color      director_name num_critic_for_reviews duration  \\\n",
       "0  Color      James Cameron                    723      178   \n",
       "1  Color     Gore Verbinski                    302      169   \n",
       "2  Color         Sam Mendes                    602      148   \n",
       "3  Color  Christopher Nolan                    813      164   \n",
       "4    UNK        Doug Walker                    UNK      UNK   \n",
       "\n",
       "  director_facebook_likes actor_3_facebook_likes      actor_2_name  \\\n",
       "0                       0                    855  Joel David Moore   \n",
       "1                     563                   1000     Orlando Bloom   \n",
       "2                       0                    161      Rory Kinnear   \n",
       "3                   22000                  23000    Christian Bale   \n",
       "4                     131                    UNK        Rob Walker   \n",
       "\n",
       "  actor_1_facebook_likes        gross                           genres  ...  \\\n",
       "0                   1000  7.60506e+08  Action|Adventure|Fantasy|Sci-Fi  ...   \n",
       "1                  40000  3.09404e+08         Action|Adventure|Fantasy  ...   \n",
       "2                  11000  2.00074e+08        Action|Adventure|Thriller  ...   \n",
       "3                  27000  4.48131e+08                  Action|Thriller  ...   \n",
       "4                    131          UNK                      Documentary  ...   \n",
       "\n",
       "  num_user_for_reviews language  country  content_rating    budget title_year  \\\n",
       "0                 3054  English      USA           PG-13  2.37e+08       2009   \n",
       "1                 1238  English      USA           PG-13     3e+08       2007   \n",
       "2                  994  English       UK           PG-13  2.45e+08       2015   \n",
       "3                 2701  English      USA           PG-13   2.5e+08       2012   \n",
       "4                  UNK      UNK      UNK             UNK       UNK        UNK   \n",
       "\n",
       "  actor_2_facebook_likes imdb_score aspect_ratio movie_facebook_likes  \n",
       "0                    936        7.9         1.78                33000  \n",
       "1                   5000        7.1         2.35                    0  \n",
       "2                    393        6.8         2.35                85000  \n",
       "3                  23000        8.5         2.35               164000  \n",
       "4                     12        7.1          UNK                    0  \n",
       "\n",
       "[5 rows x 28 columns]"
      ]
     },
     "execution_count": 1,
     "metadata": {},
     "output_type": "execute_result"
    }
   ],
   "source": [
    "# Η βιβλιοθήκη pandas είναι χρήσιμη για την εργασία με τέτοια δεδομένα\n",
    "import pandas as pd \n",
    "# Διάβασμα του αρχείου 'movie_metadata.csv' \n",
    "data = pd.read_csv(\"movie_metadata.csv\") \n",
    "#Στο csv υπαρχούν κελία με nan τιμές\n",
    "#Στις θέσεις αυτές βάζουμε 'UNK' πράγμα που  κάνουμε με την παρακάτω συνάρτηση\n",
    "data.fillna(\"UNK\", inplace=True)\n",
    "# Preview the first 5 lines of the loaded data \n",
    "data.head()"
   ]
  },
  {
   "cell_type": "code",
   "execution_count": 2,
   "metadata": {
    "colab": {},
    "colab_type": "code",
    "id": "dG4-a9_FzRRd"
   },
   "outputs": [],
   "source": [
    "from pyswip import Prolog"
   ]
  },
  {
   "cell_type": "code",
   "execution_count": 3,
   "metadata": {
    "colab": {},
    "colab_type": "code",
    "id": "ceBtnUMn7Mwm"
   },
   "outputs": [],
   "source": [
    "def clean_text(text):\n",
    "    text = text.replace(u'\\xa0', u'')\n",
    "    text = text.replace(u\"'\", u'')\n",
    "    text = text.replace(u'\"', u'')\n",
    "    return text"
   ]
  },
  {
   "cell_type": "code",
   "execution_count": 4,
   "metadata": {
    "colab": {},
    "colab_type": "code",
    "id": "8-fmdlMxxBzx"
   },
   "outputs": [],
   "source": [
    "#create World\n",
    "#Ορίζουμε τον κόσμο μας\n",
    "prolog = Prolog()\n",
    "#και σβήνουμε ότι υπήρχε αποθηκευμένο από πρίν\n",
    "prolog.query('make')\n",
    "\n",
    "#Για κάθε row του πίνακα φτιάχνουμε τα κατηγοτήματα που θέλουμε να αποθηκέυσουμε\n",
    "#αρχικά σε μια λίστα με το όνομα literals\n",
    "literals = []\n",
    "movie_score = {}\n",
    "for row in data.itertuples(index=True, name='Pandas'):\n",
    "    movie_title = clean_text(getattr(row, 'movie_title'))\n",
    "    director = clean_text(getattr(row, 'director_name'))\n",
    "    \n",
    "    movie_score[movie_title] = 0\n",
    "    \n",
    "    if movie_title != \"UNK\":\n",
    "        if director != \"UNK\":\n",
    "            literals.append(\"director('\"+ movie_title +\"','\" + director + \"')\")\n",
    "        for genre in getattr(row, 'genres').split(\"|\"):\n",
    "            literals.append(\"genre('\"+ movie_title +\"','\"+ genre +\"')\")\n",
    "\n",
    "#Η Prolog θέλει τα κατηγορήματά της με την σειρά \n",
    "literals.sort()\n",
    "for literal in literals:\n",
    "    prolog.assertz(literal)\n",
    "\n",
    "#Επίσης μπορούμε να κάνουμε consult ένα έτοιμό αρχίο στον κόσμο όπως γίνεται παρακάτω\n",
    "# prolog.consult(\"filename.pl\")"
   ]
  },
  {
   "cell_type": "markdown",
   "metadata": {
    "colab_type": "text",
    "id": "gpMVPz-3K07i"
   },
   "source": [
    "# **2ο Μέρος: Recommendation System με βάση μόνο τα χαρακτηριστικά των ταινιών.**\n",
    "\n",
    "Στο σημείο αυτό με βάση τους κανόνες που κατασκευάστηκαν στο Μέρος 1 θα κατασκευαστούν κατηγορήματα για την ομοιότητα ταινιών. Παρακάτω δίνεται ένα μικρό παράδειγμα ενός κανόνα και πώς αυτός θα μπορούσε να γραφτεί μέσω του Pyswip. Επίσης όπως αναφέρεται και σε σχόλιο παραπάνω θα μπορεί να γραφτεί και μια βάση δεδομένων με τους κανόνες και να γίνει απευθείας consult.\n",
    "\n",
    "Στο παρακάτω παράδειγμα το 5 και το 4 εκφράζουν την ομοιότητα των ταινιών π.χ. οι ταινίες που παράγονται μέσω του find_similar_5 είναι πιο όμοιες από αυτές που παράγονται μέσω του find_similar_4. \n"
   ]
  },
  {
   "cell_type": "code",
   "execution_count": 5,
   "metadata": {
    "colab": {},
    "colab_type": "code",
    "id": "h1nmSLlmA75q"
   },
   "outputs": [],
   "source": [
    "prolog.assertz('(find_similar_movies_5(X, Y) :- director(X, D), director(Y, D), genre(X, G), genre(Y, G), X \\= Y )')\n",
    "prolog.assertz('(find_similar_movies_4(X, Y) :- genre(X, G), genre(Y, G), X \\= Y, not(find_similar_movies_5(X, Y)) )')\n",
    "\n",
    "# prolog.consult('db.pl')"
   ]
  },
  {
   "cell_type": "code",
   "execution_count": 6,
   "metadata": {
    "colab": {},
    "colab_type": "code",
    "id": "DeAvc55byC0l"
   },
   "outputs": [],
   "source": [
    "def simple_recommender(movie):\n",
    "\n",
    "    q = prolog.query(\"find_similar_movies_5('\" + movie +\"',M)\")\n",
    "    ans5 = []\n",
    "    for soln in q:\n",
    "        ans5.append(soln[\"M\"])\n",
    "    ans = set(ans5)\n",
    "    \n",
    "    q = prolog.query(\"find_similar_movies_4('\" + movie +\"',M)\")\n",
    "    ans4 = []\n",
    "    for soln in q:\n",
    "        if soln[\"M\"] not in ans:\n",
    "            ans4.append(soln[\"M\"])\n",
    "            ans.add(soln[\"M\"])\n",
    "\n",
    "    #κάνουμε κάποιο Processing στα παραπάνω αποτελέσματα και επιστρέφουμε τις \"όμοιες\" ταινίες με φθίνουσα σειρά\n",
    "    return list(set(ans5))[:10], list(set(ans4))[:10]"
   ]
  },
  {
   "cell_type": "markdown",
   "metadata": {
    "colab_type": "text",
    "id": "wCryo9VGAeWi"
   },
   "source": [
    "**Στο σημείο αυτό θα ζητήσουμε από το σύστημα να μας επιστρέψει ορισμένα αποτελέσματα για ταινίες για να εξετάσουμε την απόδοσή του.**\n"
   ]
  },
  {
   "cell_type": "code",
   "execution_count": 7,
   "metadata": {
    "colab": {
     "base_uri": "https://localhost:8080/",
     "height": 127
    },
    "colab_type": "code",
    "id": "IxNuJ6kX1m0m",
    "outputId": "5a92045a-ec6d-4e83-8c3f-d0706417bcac"
   },
   "outputs": [
    {
     "data": {
      "text/plain": [
       "(['Star Wars: Episode II - Attack of the Clones',\n",
       "  'Star Wars: Episode IV - A New Hope',\n",
       "  'Star Wars: Episode I - The Phantom Menace'],\n",
       " ['The Expendables 2',\n",
       "  'Gangster Squad',\n",
       "  'Mystery Men',\n",
       "  'Bait',\n",
       "  'Cats Dont Dance',\n",
       "  'Kickboxer: Vengeance',\n",
       "  'The Pursuit of D.B. Cooper',\n",
       "  'The Omen',\n",
       "  'Nighthawks',\n",
       "  'Ride Along 2'])"
      ]
     },
     "execution_count": 7,
     "metadata": {},
     "output_type": "execute_result"
    }
   ],
   "source": [
    "simple_recommender(\"Star Wars: Episode III - Revenge of the Sith\")"
   ]
  },
  {
   "cell_type": "code",
   "execution_count": 8,
   "metadata": {},
   "outputs": [
    {
     "data": {
      "text/plain": [
       "(['The Terminator',\n",
       "  'Aliens',\n",
       "  'The Abyss',\n",
       "  'Terminator 2: Judgment Day',\n",
       "  'True Lies'],\n",
       " ['The Expendables 2',\n",
       "  'Gangster Squad',\n",
       "  'Mystery Men',\n",
       "  'Bait',\n",
       "  'Cats Dont Dance',\n",
       "  'Kickboxer: Vengeance',\n",
       "  'The Pursuit of D.B. Cooper',\n",
       "  'The Omen',\n",
       "  'Nighthawks',\n",
       "  'Ride Along 2'])"
      ]
     },
     "execution_count": 8,
     "metadata": {},
     "output_type": "execute_result"
    }
   ],
   "source": [
    "simple_recommender(\"Avatar\")"
   ]
  },
  {
   "cell_type": "code",
   "execution_count": 9,
   "metadata": {
    "colab": {
     "base_uri": "https://localhost:8080/",
     "height": 127
    },
    "colab_type": "code",
    "id": "_isjJITtG7P3",
    "outputId": "99f9ad58-0f5a-41bf-f080-979cce761496"
   },
   "outputs": [
    {
     "data": {
      "text/plain": [
       "(['Pirates of the Caribbean: The Curse of the Black Pearl',\n",
       "  'The Lone Ranger',\n",
       "  'Pirates of the Caribbean: At Worlds End',\n",
       "  'The Mexican',\n",
       "  'Rango'],\n",
       " ['The Expendables 2',\n",
       "  'Gangster Squad',\n",
       "  'Mystery Men',\n",
       "  'Bait',\n",
       "  'Cats Dont Dance',\n",
       "  'Kickboxer: Vengeance',\n",
       "  'The Pursuit of D.B. Cooper',\n",
       "  'The Omen',\n",
       "  'Nighthawks',\n",
       "  'Ride Along 2'])"
      ]
     },
     "execution_count": 9,
     "metadata": {},
     "output_type": "execute_result"
    }
   ],
   "source": [
    "simple_recommender('Pirates of the Caribbean: Dead Mans Chest')"
   ]
  },
  {
   "cell_type": "code",
   "execution_count": 21,
   "metadata": {},
   "outputs": [],
   "source": [
    "def jaccard_similarity(list1, list2):\n",
    "    set1 = set(list1)\n",
    "    set2 = set(list2)\n",
    "    intersection = len(set1.intersection(set2))\n",
    "    union = len(set1) + len(set2) - intersection\n",
    "    return intersection / union"
   ]
  },
  {
   "cell_type": "markdown",
   "metadata": {
    "colab_type": "text",
    "id": "aAM9o2UZFbMC"
   },
   "source": [
    "# **3ο Μέρος: Recommendation System Με βάση τις προτιμήσεις-αξιολογήσεις του χρήστη**\n",
    "\n",
    "Αρχικά μελετάμε τις αξιολογήσεις κάθε χρήστη για να καταλάβουμε την δομή και τις πληροφορίες κάθε αρχείου.\n",
    "\n",
    "\n",
    "\n",
    "\n"
   ]
  },
  {
   "cell_type": "code",
   "execution_count": 11,
   "metadata": {
    "colab": {
     "base_uri": "https://localhost:8080/",
     "height": 206
    },
    "colab_type": "code",
    "id": "wdheN52GETd8",
    "outputId": "23e509c1-3001-4e06-8a06-68f8d1c23f6a"
   },
   "outputs": [
    {
     "data": {
      "text/html": [
       "<div>\n",
       "<style scoped>\n",
       "    .dataframe tbody tr th:only-of-type {\n",
       "        vertical-align: middle;\n",
       "    }\n",
       "\n",
       "    .dataframe tbody tr th {\n",
       "        vertical-align: top;\n",
       "    }\n",
       "\n",
       "    .dataframe thead th {\n",
       "        text-align: right;\n",
       "    }\n",
       "</style>\n",
       "<table border=\"1\" class=\"dataframe\">\n",
       "  <thead>\n",
       "    <tr style=\"text-align: right;\">\n",
       "      <th></th>\n",
       "      <th>movie_title</th>\n",
       "      <th>rating</th>\n",
       "    </tr>\n",
       "  </thead>\n",
       "  <tbody>\n",
       "    <tr>\n",
       "      <th>0</th>\n",
       "      <td>Heavy Metal</td>\n",
       "      <td>4</td>\n",
       "    </tr>\n",
       "    <tr>\n",
       "      <th>1</th>\n",
       "      <td>The Croods</td>\n",
       "      <td>5</td>\n",
       "    </tr>\n",
       "    <tr>\n",
       "      <th>2</th>\n",
       "      <td>Watchmen</td>\n",
       "      <td>4</td>\n",
       "    </tr>\n",
       "    <tr>\n",
       "      <th>3</th>\n",
       "      <td>The Matrix</td>\n",
       "      <td>4</td>\n",
       "    </tr>\n",
       "    <tr>\n",
       "      <th>4</th>\n",
       "      <td>The Emperors New Groove</td>\n",
       "      <td>5</td>\n",
       "    </tr>\n",
       "  </tbody>\n",
       "</table>\n",
       "</div>"
      ],
      "text/plain": [
       "               movie_title  rating\n",
       "0              Heavy Metal       4\n",
       "1               The Croods       5\n",
       "2                 Watchmen       4\n",
       "3               The Matrix       4\n",
       "4  The Emperors New Groove       5"
      ]
     },
     "execution_count": 11,
     "metadata": {},
     "output_type": "execute_result"
    }
   ],
   "source": [
    "user = \"user1.csv\"\n",
    "ratings = pd.read_csv(user) \n",
    "\n",
    "# Preview the first 5 lines of the loaded data \n",
    "ratings.head()"
   ]
  },
  {
   "cell_type": "markdown",
   "metadata": {
    "colab_type": "text",
    "id": "_AmyMzx5dXtS"
   },
   "source": [
    "**Κατασκευάζουμε τα scores για κάθε ταινία με βάση τις προηγούμενες αξιολογήσεις του χρήστη**"
   ]
  },
  {
   "cell_type": "code",
   "execution_count": 12,
   "metadata": {
    "colab": {
     "base_uri": "https://localhost:8080/",
     "height": 398
    },
    "colab_type": "code",
    "id": "6V4QJFUTbRZC",
    "outputId": "b6767557-8bae-4950-cab6-3f0505c61e59"
   },
   "outputs": [],
   "source": [
    "similarity_weights = {\"similarity_5\": 15, \"similarity_4\":7}\n",
    "rating_weight = {5: 10, 4: 5, 3: 0, 2: -5, 1: -10}\n",
    "\n",
    "movie_score = {m: 0 for m in  movie_score}\n",
    "for row in ratings.itertuples(index=True, name='Pandas'):\n",
    "    movie = clean_text(getattr(row, 'movie_title'))\n",
    "    rating = getattr(row, 'rating')    \n",
    "    \n",
    "    q = prolog.query(\"find_similar_movies_5('\" + movie + \"',M)\")\n",
    "    for soln in q:\n",
    "        movie_score [soln[\"M\"]] += similarity_weights['similarity_5'] * rating_weight[rating] #το weight θα το ορίσετε ανα επίπεδο ομοιότητας οι πολύ όμοιες ταινίες θα έχουν μεγαλύτερο βάρος\n",
    "    q.close()\n",
    "    \n",
    "    q = prolog.query(\"find_similar_movies_4('\" + movie + \"',M)\")\n",
    "    for soln in q:\n",
    "        movie_score [soln[\"M\"]] += similarity_weights['similarity_4'] * rating_weight[rating] #το weight θα το ορίσετε ανα επίπεδο ομοιότητας οι πολύ όμοιες ταινίες θα έχουν μεγαλύτερο βάρος\n",
    "    q.close()"
   ]
  },
  {
   "cell_type": "markdown",
   "metadata": {
    "colab_type": "text",
    "id": "luU3can3dm-N"
   },
   "source": [
    "**Στο σημείο αυτό κατασκευάζουμε την νέα συνάρτηση η όποια θα επιστρέφει τις προτεινόμενες ταινίες συνυπολογίζοντας τις αξιολογήσεις του χρήστη.**"
   ]
  },
  {
   "cell_type": "code",
   "execution_count": 13,
   "metadata": {
    "colab": {},
    "colab_type": "code",
    "id": "kvL14dw3c9cF"
   },
   "outputs": [],
   "source": [
    "def recommender(movie_score):\n",
    "    movies_score = {k: v for k, v in sorted(movie_score.items(), key=lambda item: item[1], reverse = True)}\n",
    "    return [m for m in movies_score][:10]"
   ]
  },
  {
   "cell_type": "code",
   "execution_count": 15,
   "metadata": {
    "colab": {},
    "colab_type": "code",
    "id": "VkHP2NVEvpqR"
   },
   "outputs": [
    {
     "data": {
      "text/plain": [
       "['Home',\n",
       " 'Pan',\n",
       " '20,000 Leagues Under the Sea',\n",
       " 'Alice in Wonderland',\n",
       " 'Oz the Great and Powerful',\n",
       " 'Teenage Mutant Ninja Turtles',\n",
       " 'The Jungle Book',\n",
       " 'Goosebumps',\n",
       " 'Big Fat Liar',\n",
       " 'Conan the Barbarian']"
      ]
     },
     "execution_count": 15,
     "metadata": {},
     "output_type": "execute_result"
    }
   ],
   "source": [
    "recommender(movie_score)"
   ]
  },
  {
   "cell_type": "markdown",
   "metadata": {},
   "source": [
    "Σχολιάστε τα αποτελέσματά σας."
   ]
  },
  {
   "cell_type": "markdown",
   "metadata": {},
   "source": [
    "---\n",
    "<center><h2>Κατασκευή των Δικών σας Users</h2></center>\n",
    "\n",
    "---"
   ]
  },
  {
   "cell_type": "code",
   "execution_count": 16,
   "metadata": {},
   "outputs": [],
   "source": [
    "import csv\n",
    "import numpy as np\n",
    "\n",
    "def create_my_user(liked, notLiked, filename, num_of_liked =20, num_of_notliked = 20):\n",
    "    with open(filename, 'w', newline='') as file:\n",
    "        writer = csv.writer(file)\n",
    "        writer.writerow([\"movie_title\",\"rating\"])\n",
    "        liked = np.random.choice(liked, num_of_liked)\n",
    "        liked = np.random.choice(notliked, num_of_notliked)\n",
    "        for i in  liked:\n",
    "            grade = np.random.choice([5,4,3], p = [0.5, 0.4, 0.1])\n",
    "            writer.writerow([i, grade])\n",
    "        for i in  liked:\n",
    "            grade = np.random.choice([1, 2, 3], p = [0.5, 0.4, 0.1])\n",
    "            writer.writerow([i, grade])"
   ]
  },
  {
   "cell_type": "code",
   "execution_count": 17,
   "metadata": {},
   "outputs": [],
   "source": [
    "# prolog.consult(\"db.pl\")\n",
    "#Κατασκευάστε τα κατηγορήματα για τις ταινίες που σας αρέσουν και για αυτές που δεν σας αρέσουν\n",
    "#Αν μια ταινία ανήκει σε μια ευρίτερη κατηγορία κατεσκευάστε την πρώτα\n",
    "prolog.assertz(\"(fantasy(X) :- genre(X, 'Sci-Fi'); genre(X, 'Fantacy'))\")\n",
    "prolog.assertz(\"(thriller(X) :- genre(X, 'Horror'); genre(X, 'Thriller'))\")\n",
    "prolog.assertz(\"(liked(X) :- fantasy(X), director(X, 'James Cameron'))\")\n",
    "prolog.assertz(\"(notLiked(X) :- thriller(X))\")"
   ]
  },
  {
   "cell_type": "code",
   "execution_count": 19,
   "metadata": {},
   "outputs": [],
   "source": [
    "q = prolog.query(\"liked(M)\")\n",
    "ans = []\n",
    "for soln in q:\n",
    "    ans.append(soln[\"M\"])\n",
    "liked = list(set(ans))\n",
    "\n",
    "q = prolog.query(\"notLiked(M)\")\n",
    "ans = []\n",
    "for soln in q:\n",
    "    ans.append(soln[\"M\"])\n",
    "notliked = list(set(ans))\n",
    "\n",
    "create_my_user(liked, notliked, filename= \"myuser.csv\", num_of_liked = 20, num_of_notliked = 20)"
   ]
  }
 ],
 "metadata": {
  "kernelspec": {
   "display_name": "Python 3",
   "language": "python",
   "name": "python3"
  },
  "language_info": {
   "codemirror_mode": {
    "name": "ipython",
    "version": 3
   },
   "file_extension": ".py",
   "mimetype": "text/x-python",
   "name": "python",
   "nbconvert_exporter": "python",
   "pygments_lexer": "ipython3",
   "version": "3.7.3"
  },
  "pycharm": {
   "stem_cell": {
    "cell_type": "raw",
    "source": [],
    "metadata": {
     "collapsed": false
    }
   }
  }
 },
 "nbformat": 4,
 "nbformat_minor": 4
}